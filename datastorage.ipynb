{
 "cells": [
  {
   "cell_type": "code",
   "execution_count": 1,
   "metadata": {},
   "outputs": [],
   "source": [
    "import pandas as pd \n",
    "import json \n"
   ]
  },
  {
   "cell_type": "code",
   "execution_count": 2,
   "metadata": {},
   "outputs": [],
   "source": [
    "data_ef = pd.read_csv(\"emissionsfactors.csv\")\n",
    "data_eui= pd.read_csv(\"emissionsmultipliers.csv\")\n"
   ]
  },
  {
   "cell_type": "code",
   "execution_count": 3,
   "metadata": {},
   "outputs": [
    {
     "data": {
      "text/html": [
       "<div>\n",
       "<style scoped>\n",
       "    .dataframe tbody tr th:only-of-type {\n",
       "        vertical-align: middle;\n",
       "    }\n",
       "\n",
       "    .dataframe tbody tr th {\n",
       "        vertical-align: top;\n",
       "    }\n",
       "\n",
       "    .dataframe thead th {\n",
       "        text-align: right;\n",
       "    }\n",
       "</style>\n",
       "<table border=\"1\" class=\"dataframe\">\n",
       "  <thead>\n",
       "    <tr style=\"text-align: right;\">\n",
       "      <th></th>\n",
       "      <th>region</th>\n",
       "      <th>residential_multiplier</th>\n",
       "      <th>commercial_multiplier</th>\n",
       "    </tr>\n",
       "  </thead>\n",
       "  <tbody>\n",
       "    <tr>\n",
       "      <th>0</th>\n",
       "      <td>massachusetts</td>\n",
       "      <td>193.84</td>\n",
       "      <td>190.07</td>\n",
       "    </tr>\n",
       "    <tr>\n",
       "      <th>1</th>\n",
       "      <td>michigan</td>\n",
       "      <td>194.35</td>\n",
       "      <td>223.76</td>\n",
       "    </tr>\n",
       "    <tr>\n",
       "      <th>2</th>\n",
       "      <td>mexico</td>\n",
       "      <td>106.03</td>\n",
       "      <td>94.93</td>\n",
       "    </tr>\n",
       "    <tr>\n",
       "      <th>3</th>\n",
       "      <td>indonesia</td>\n",
       "      <td>69.06</td>\n",
       "      <td>69.06</td>\n",
       "    </tr>\n",
       "  </tbody>\n",
       "</table>\n",
       "</div>"
      ],
      "text/plain": [
       "          region  residential_multiplier  commercial_multiplier\n",
       "0  massachusetts                  193.84                 190.07\n",
       "1       michigan                  194.35                 223.76\n",
       "2         mexico                  106.03                  94.93\n",
       "3      indonesia                   69.06                  69.06"
      ]
     },
     "execution_count": 3,
     "metadata": {},
     "output_type": "execute_result"
    }
   ],
   "source": [
    "data_eui"
   ]
  },
  {
   "cell_type": "code",
   "execution_count": 8,
   "metadata": {},
   "outputs": [],
   "source": [
    "# Placeholders for latitude and lonngitude coordinates \n",
    "region_coordinates = {\n",
    "    'massachusetts': [[[1, 2], [3, 4], [5, 6], [7, 8], [9, 10]]],\n",
    "    'michigan': [[[11, 12], [13, 14], [15, 16], [17, 18], [19, 20]]],  # Replace with Mexico coordinates\n",
    "    'mexico': [[[21, 22], [23, 24], [25, 26], [27, 28], [29, 30]]],  # Replace with Indonesia coordinates\n",
    "    'indonesia': [[[31, 32], [33, 34], [35, 36], [37, 38], [39, 40]]] # Replace with Michigan coordinates\n",
    "}\n",
    "\n",
    "\n",
    "# store geojson features\n",
    "features = []\n",
    "for idx, row in data_eui.iterrows():\n",
    "    region = row['region']\n",
    "    coord= region_coordinates.get(region)\n",
    "    feature = {\n",
    "        \"type\": \"Feature\",\n",
    "        \"geometry\": {\n",
    "            \"type\": \"Polygon\",\n",
    "            \"coordinates\": coord\n",
    "        },                                  \n",
    "        \"properties\": {\n",
    "            \"region\": row[\"region\"],\n",
    "            \"Residential_Multiplier\": row[\"residential_multiplier\"],\n",
    "            \"Commercial_Multiplier\": row[\"commercial_multiplier\"],\n",
    "            \"Source\": \"Your Source\",\n",
    "            \"Acquisition_Date\": \"Date\",\n",
    "            \"Notes\": \"Additional Notes\"\n",
    "        }\n",
    "    }\n",
    "    features.append(feature)\n",
    "\n"
   ]
  },
  {
   "cell_type": "code",
   "execution_count": 9,
   "metadata": {},
   "outputs": [],
   "source": [
    "# Create a Feature Collection\n",
    "feature_collection = {\n",
    "    \"type\": \"FeatureCollection\",\n",
    "    \"features\": features\n",
    "}\n",
    "\n",
    "# Save as GeoJSON\n",
    "with open(\"output.geojson\", \"w\") as outfile:\n",
    "    json.dump(feature_collection, outfile)"
   ]
  }
 ],
 "metadata": {
  "kernelspec": {
   "display_name": "Python 3.10.9 ('base')",
   "language": "python",
   "name": "python3"
  },
  "language_info": {
   "codemirror_mode": {
    "name": "ipython",
    "version": 3
   },
   "file_extension": ".py",
   "mimetype": "text/x-python",
   "name": "python",
   "nbconvert_exporter": "python",
   "pygments_lexer": "ipython3",
   "version": "3.10.9"
  },
  "orig_nbformat": 4,
  "vscode": {
   "interpreter": {
    "hash": "3d597f4c481aa0f25dceb95d2a0067e73c0966dcbd003d741d821a7208527ecf"
   }
  }
 },
 "nbformat": 4,
 "nbformat_minor": 2
}
