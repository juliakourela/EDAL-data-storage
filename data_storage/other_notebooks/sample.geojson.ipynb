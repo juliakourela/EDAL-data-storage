{
 "cells": [
  {
   "cell_type": "code",
   "execution_count": 2,
   "metadata": {},
   "outputs": [],
   "source": [
    "import pandas as pd \n",
    "import json "
   ]
  },
  {
   "cell_type": "code",
   "execution_count": 5,
   "metadata": {},
   "outputs": [],
   "source": [
    "# Placeholders for latitude and lonngitude coordinates \n",
    "region = {\n",
    "    'massachusetts': [[[1, 2], [3, 4], [5, 6], [7, 8], [9, 10]]],\n",
    "    'michigan': [[[11, 12], [13, 14], [15, 16], [17, 18], [19, 20]]],  # Replace with Mexico coordinates\n",
    "    'mexico': [[[21, 22], [23, 24], [25, 26], [27, 28], [29, 30]]],  # Replace with Indonesia coordinates\n",
    "    'indonesia': [[[31, 32], [33, 34], [35, 36], [37, 38], [39, 40]]] # Replace with Michigan coordinates\n",
    "}\n",
    "\n",
    "data_eui= pd.read_csv(\"emissionsmultipliers_sample.csv\")\n"
   ]
  },
  {
   "cell_type": "code",
   "execution_count": 6,
   "metadata": {},
   "outputs": [],
   "source": [
    "# Read data_eui file\n",
    "# file should have a national and state column. "
   ]
  },
  {
   "cell_type": "code",
   "execution_count": 10,
   "metadata": {},
   "outputs": [],
   "source": [
    "# store geojson features\n",
    "national_features = {}\n",
    "\n",
    "# Iterate data eui \n",
    "for idx, row in data_eui.iterrows():\n",
    "    national = row['nation']\n",
    "    state = row['state']\n",
    "\n",
    "    # If the national level does not exist in the dictionary, create it\n",
    "    if national not in national_features:\n",
    "        national_features[national] = {\n",
    "            \"type\": \"Feature\",\n",
    "            \"geometry\": {\n",
    "                \"type\": \"Polygon\",  # Assuming national-level geometry is a polygon\n",
    "                \"coordinates\": []  # define the coordinates for USA\n",
    "            },\n",
    "            \"properties\": {\n",
    "                \"national\": national,\n",
    "                # Add national-level properties here\n",
    "            },\n",
    "            \"features\": []  # To store state-level features\n",
    "        }\n",
    "    coord= region.get(state.lower())\n",
    "\n",
    "    # Create a state-level feature\n",
    "    state_feature = {\n",
    "        \"type\": \"Feature\",\n",
    "        \"geometry\": {\n",
    "            \"type\": \"Polygon\",  # Assuming state-level geometry is a polygon\n",
    "            \"coordinates\": coord  # assign the coordinates for the state\n",
    "        },\n",
    "        \"properties\": {\n",
    "            \"state\": state,\n",
    "            # Add more data needed at state level here \n",
    "        },\n",
    "        \"features\": []  # To store city-level features\n",
    "    }\n",
    "\n",
    "   \n",
    "  \n",
    "    # Create a city-level feature\n",
    "    city_feature = {\n",
    "        \"type\": \"Feature\",\n",
    "        # \"geometry\": {\n",
    "        #     \"type\": \"Point\",  # Assuming city-level geometry is a point\n",
    "        #     \"coordinates\": [row['longitude'], row['latitude']]\n",
    "        # },\n",
    "        \"properties\": {\n",
    "            \"city\": row['city'],\n",
    "            \"Residential_Multiplier\": row[\"residential_multiplier\"],\n",
    "            \"Commercial_Multiplier\": row[\"commercial_multiplier\"],\n",
    "            \"Source\": \"Your Source\",\n",
    "            \"Acquisition_Date\": \"Date\",\n",
    "            \"Notes\": \"Additional Notes\"\n",
    "            # Add city-level properties here\n",
    "        }\n",
    "    }\n",
    "\n",
    "    # Append the city-level feature to the state-level features\n",
    "    state_feature[\"features\"].append(city_feature)\n",
    "\n",
    "    # Append the state-level feature to the national-level features\n",
    "    national_features[national][\"features\"].append(state_feature)\n",
    "\n",
    "# Convert the national-level features dictionary to a list\n",
    "features = list(national_features.values())\n",
    "\n",
    "# Create a GeoJSON FeatureCollection\n",
    "feature_collection  = {\n",
    "    \"type\": \"FeatureCollection\",\n",
    "    \"features\": features\n",
    "}\n",
    "\n",
    "# Now you can use `geojson` as your GeoJSON representation\n"
   ]
  },
  {
   "cell_type": "code",
   "execution_count": 11,
   "metadata": {},
   "outputs": [],
   "source": [
    "\n",
    "\n",
    "# Save as GeoJSON\n",
    "with open(\"output.geojson\", \"w\") as outfile:\n",
    "    json.dump(feature_collection, outfile)"
   ]
  }
 ],
 "metadata": {
  "kernelspec": {
   "display_name": "Python 3.10.9 ('base')",
   "language": "python",
   "name": "python3"
  },
  "language_info": {
   "name": "python",
   "version": "3.10.9"
  },
  "orig_nbformat": 4,
  "vscode": {
   "interpreter": {
    "hash": "3d597f4c481aa0f25dceb95d2a0067e73c0966dcbd003d741d821a7208527ecf"
   }
  }
 },
 "nbformat": 4,
 "nbformat_minor": 2
}
