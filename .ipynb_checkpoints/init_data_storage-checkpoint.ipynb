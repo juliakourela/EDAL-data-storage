{
 "cells": [
  {
   "cell_type": "code",
   "execution_count": 1,
   "id": "ac6c5b91-08b1-4869-a293-703fa081440a",
   "metadata": {},
   "outputs": [],
   "source": [
    "import pandas as pd\n",
    "from libs.json_interface import *\n",
    "from libs.ingest_datasets import *"
   ]
  },
  {
   "cell_type": "code",
   "execution_count": 2,
   "id": "f54ac462-6c6b-4777-94b8-d6c5bb542445",
   "metadata": {},
   "outputs": [],
   "source": [
    "def main():\n",
    "    filename = 'output.json'\n",
    "    filepath = 'data/'\n",
    "\n",
    "    data = open_json(filename)\n",
    "\n",
    "    data = add_features_from_ef(data, filepath+'Emissions_Factors.xlsx')\n",
    "\n",
    "    data = add_features_from_fuel_mix(data, 'Mexico', filepath+'MX_Fuel_Mixes.xlsx')\n",
    "    data = add_features_from_fuel_mix(data, 'Indonesia', filepath+'ID_Fuel_Mixes.xlsx')\n",
    "\n",
    "    data = add_features_from_EUI(data, 'Mexico', filepath+'MX_EUI_CURB_estimates.xlsx')\n",
    "    data = add_features_from_EUI(data, 'Indonesia', filepath+'ID_EUI_CURB_estimates.xlsx')\n",
    "    \n",
    "    data_to_json(data, filename)"
   ]
  },
  {
   "cell_type": "code",
   "execution_count": 3,
   "id": "422d84ba-d855-4606-ae05-5d38b3510f35",
   "metadata": {},
   "outputs": [
    {
     "name": "stderr",
     "output_type": "stream",
     "text": [
      "/Library/Frameworks/Python.framework/Versions/3.11/lib/python3.11/site-packages/openpyxl/worksheet/_reader.py:329: UserWarning: Data Validation extension is not supported and will be removed\n",
      "  warn(msg)\n",
      "/Library/Frameworks/Python.framework/Versions/3.11/lib/python3.11/site-packages/openpyxl/worksheet/_reader.py:329: UserWarning: Data Validation extension is not supported and will be removed\n",
      "  warn(msg)\n"
     ]
    }
   ],
   "source": [
    "main()"
   ]
  },
  {
   "cell_type": "code",
   "execution_count": null,
   "id": "cab0d4a0-eca7-4ed7-9f14-f56a0aab2be6",
   "metadata": {},
   "outputs": [],
   "source": []
  }
 ],
 "metadata": {
  "kernelspec": {
   "display_name": "Python 3 (ipykernel)",
   "language": "python",
   "name": "python3"
  },
  "language_info": {
   "codemirror_mode": {
    "name": "ipython",
    "version": 3
   },
   "file_extension": ".py",
   "mimetype": "text/x-python",
   "name": "python",
   "nbconvert_exporter": "python",
   "pygments_lexer": "ipython3",
   "version": "3.11.4"
  }
 },
 "nbformat": 4,
 "nbformat_minor": 5
}
